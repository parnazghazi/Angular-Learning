{
  "nbformat": 4,
  "nbformat_minor": 0,
  "metadata": {
    "colab": {
      "provenance": [],
      "authorship_tag": "ABX9TyOOi1yPPD6J0K/HVdfaJCPP",
      "include_colab_link": true
    },
    "kernelspec": {
      "name": "python3",
      "display_name": "Python 3"
    },
    "language_info": {
      "name": "python"
    }
  },
  "cells": [
    {
      "cell_type": "markdown",
      "metadata": {
        "id": "view-in-github",
        "colab_type": "text"
      },
      "source": [
        "<a href=\"https://colab.research.google.com/github/parnazghazi/Angular-Learning/blob/master/mychatbot.ipynb\" target=\"_parent\"><img src=\"https://colab.research.google.com/assets/colab-badge.svg\" alt=\"Open In Colab\"/></a>"
      ]
    },
    {
      "cell_type": "code",
      "execution_count": 4,
      "metadata": {
        "colab": {
          "base_uri": "https://localhost:8080/"
        },
        "id": "mh_MzTmTP4yq",
        "outputId": "6e8942e3-df69-4887-baf8-0fde043a4eb9"
      },
      "outputs": [
        {
          "output_type": "stream",
          "name": "stdout",
          "text": [
            "b'<!doctype html><html itemscope=\"\" itemtype=\"http://schema.org/WebPage\" lang=\"zh-TW\"><head><meta content=\"text/html; charset=UTF-8\" http-equiv=\"Content-Type\"><meta content=\"/images/branding/googleg/1x/googleg_standard_color_128dp.png\" itemprop=\"image\"><title>Google</title><script nonce=\"8jcTEkYMYya53tWan6axRA\">(function(){var _g={kEI:\\'E53MZ8rKL9vn1e8PpKiuyAc\\',kEXPI:\\'0,202792,3497521,1071,503816,34845,2872,2891,43028,30022,16105,344796,238458,32017,19569,15671,5226083,14,8834879,80,4,3,4,1,3,8,7437635,183,16496047,4043709,25228681,112124,94,10886,15164,8181,5945,65155,6754,23878,7034,2105,4600,328,6225,1117,33194,16265,3069,6976,3544,1346,13702,8222,7413,21302,33,9041,17667,10672,9768,4,11567,2988,5352,41,13163,476,1,4930,1811,2847,1259,7736,11086,2285,4945,928,1219,4617,5773,4311,2091,60,2515,7675,3352,4946,2662,1680,13209,1635,3261,459,2531,35,1153,9,3,2255,714,1789,1254,55,1024,1,831,221,1,2055,802,1001,454,3282,569,2367,1226,716,2,1175,474,183,2076,1123,1435,203,2,202,354,656,611,3143,201,608,19,418,5,113,8,109,2084,1087,1308,88,2025,347,458,295,367,2433,375,335,12,366,182,590,1375,212,841,303,901,86,253,991,376,813,109,525,292,238,1210,4,287,990,1486,1116,76,1364,585,582,1189,160,356,183,78,687,69,241,512,367,3,5,3,3,2,234,3,88,2,505,11,428,27,546,123,540,3,2,648,151,7,310,1200,1288,238,6,107,152,2,330,180,345,111,385,154,476,252,369,15,606,575,54,169,377,321,90,224,1322,2,171,105,300,400,369,4,219,266,126,303,925,693,215,20,2,230,55,13,788,424,435,156,3,7,302,160,956,45,1,14,392,277,2,1,2,2,2,2688,701,1408,21335293,18,3223,1121,196,8,3873,12,911,978,198,3592,2149,542,756,6011160,2500107\\',kBL:\\'Hz7M\\',kOPI:89978449};(function(){var a;((a=window.google)==null?0:a.stvsc)?google.kEI=_g.kEI:window.google=_g;}).call(this);})();(function(){google.sn=\\'webhp\\';google.kHL=\\'zh-TW\\';})();(function(){\\nvar g=this||self;function k(){return window.google&&window.google.kOPI||null};var l,m=[];function n(a){for(var b;a&&(!a.getAttribute||!(b=a.getAttribute(\"eid\")));)a=a.parentNode;return b||l}function p(a){for(var b=null;a&&(!a.getAttribute||!(b=a.getAttribute(\"leid\")));)a=a.parentNode;return b}function q(a){/^http:/i.test(a)&&window.location.protocol===\"https:\"&&(google.ml&&google.ml(Error(\"a\"),!1,{src:a,glmm:1}),a=\"\");return a}\\nfunction r(a,b,d,c,h){var e=\"\";b.search(\"&ei=\")===-1&&(e=\"&ei=\"+n(c),b.search(\"&lei=\")===-1&&(c=p(c))&&(e+=\"&lei=\"+c));var f=b.search(\"&cshid=\")===-1&&a!==\"slh\";c=\"&zx=\"+Date.now().toString();g._cshid&&f&&(c+=\"&cshid=\"+g._cshid);(d=d())&&(c+=\"&opi=\"+d);return\"/\"+(h||\"gen_204\")+\"?atyp=i&ct=\"+String(a)+\"&cad=\"+(b+e+c)};l=google.kEI;google.getEI=n;google.getLEI=p;google.ml=function(){return null};google.log=function(a,b,d,c,h,e){e=e===void 0?k:e;d||(d=r(a,b,e,c,h));if(d=q(d)){a=new Image;var f=m.length;m[f]=a;a.onerror=a.onload=a.onabort=function(){delete m[f]};a.src=d}};google.logUrl=function(a,b){b=b===void 0?k:b;return r(\"\",a,b)};}).call(this);(function(){google.y={};google.sy=[];var d;(d=google).x||(d.x=function(a,b){if(a)var c=a.id;else{do c=Math.random();while(google.y[c])}google.y[c]=[a,b];return!1});var e;(e=google).sx||(e.sx=function(a){google.sy.push(a)});google.lm=[];var f;(f=google).plm||(f.plm=function(a){google.lm.push.apply(google.lm,a)});google.lq=[];var g;(g=google).load||(g.load=function(a,b,c){google.lq.push([[a],b,c])});var h;(h=google).loadAll||(h.loadAll=function(a,b){google.lq.push([a,b])});google.bx=!1;var k;(k=google).lx||(k.lx=function(){});var l=[],m;(m=google).fce||(m.fce=function(a,b,c,n){l.push([a,b,c,n])});google.qce=l;}).call(this);google.f={};(function(){\\ndocument.documentElement.addEventListener(\"submit\",function(b){var a;if(a=b.target){var c=a.getAttribute(\"data-submitfalse\");a=c===\"1\"||c===\"q\"&&!a.elements.q.value?!0:!1}else a=!1;a&&(b.preventDefault(),b.stopPropagation())},!0);document.documentElement.addEventListener(\"click\",function(b){var a;a:{for(a=b.target;a&&a!==document.documentElement;a=a.parentElement)if(a.tagName===\"A\"){a=a.getAttribute(\"data-nohref\")===\"1\";break a}a=!1}a&&b.preventDefault()},!0);}).call(this);</script><style>#gbar,#guser{font-size:13px;padding-top:1px !important;}#gbar{height:22px}#guser{padding-bottom:7px !important;text-align:right}.gbh,.gbd{border-top:1px solid #c9d7f1;font-size:1px}.gbh{height:0;position:absolute;top:24px;width:100%}@media all{.gb1{height:22px;margin-right:.5em;vertical-align:top}#gbar{float:left}}a.gb1,a.gb4{text-decoration:underline !important}a.gb1,a.gb4{color:#00c !important}.gbi .gb4{color:#dd8e27 !important}.gbf .gb4{color:#900 !important}\\n</style><style>body,td,a,p,.h{font-family:sans-serif}body{margin:0;overflow-y:scroll}#gog{padding:3px 8px 0}td{line-height:.8em}.gac_m td{line-height:17px}form{margin-bottom:20px}.h{color:#1967d2}em{color:#c5221f;font-style:normal;font-weight:normal}a em{text-decoration:underline}.lst{height:25px;width:496px}.gsfi,.lst{font:18px sans-serif}.gsfs{font:17px sans-serif}.ds{display:inline-box;display:inline-block;margin:3px 0 4px;margin-left:4px}input{font-family:inherit}body{background:#fff;color:#000}a{color:#681da8;text-decoration:none}a:hover,a:active{text-decoration:underline}.fl a{color:#1967d2}a:visited{color:#681da8}.sblc{padding-top:5px}.sblc a{display:block;margin:2px 0;margin-left:13px;font-size:11px}.lsbb{background:#f8f9fa;border:solid 1px;border-color:#dadce0 #70757a #70757a #dadce0;height:30px}.lsbb{display:block}#WqQANb a{display:inline-block;margin:0 12px}.lsb{background:url(/images/nav_logo229.png) 0 -261px repeat-x;color:#000;border:none;cursor:pointer;height:30px;margin:0;outline:0;font:15px sans-serif;vertical-align:top}.lsb:active{background:#dadce0}.lst:focus{outline:none}</style><script nonce=\"8jcTEkYMYya53tWan6axRA\">(function(){window.google.erd={jsr:1,bv:2181,de:true,dpf:\\'q39kPPGfdyYqfKX73JZ5pH2CxKmTkkRdDaJU51Vl5PI\\'};\\nvar g=this||self;var k,l=(k=g.mei)!=null?k:1,m,p=(m=g.diel)!=null?m:0,q,r=(q=g.sdo)!=null?q:!0,t=0,u,w=google.erd,x=w.jsr;google.ml=function(a,b,d,n,e){e=e===void 0?2:e;b&&(u=a&&a.message);d===void 0&&(d={});d.cad=\"ple_\"+google.ple+\".aple_\"+google.aple;if(google.dl)return google.dl(a,e,d,!0),null;b=d;if(x<0){window.console&&console.error(a,b);if(x===-2)throw a;b=!1}else b=!a||!a.message||a.message===\"Error loading script\"||t>=l&&!n?!1:!0;if(!b)return null;t++;d=d||{};b=encodeURIComponent;var c=\"/gen_204?atyp=i&ei=\"+b(google.kEI);google.kEXPI&&(c+=\"&jexpid=\"+b(google.kEXPI));c+=\"&srcpg=\"+b(google.sn)+\"&jsr=\"+b(w.jsr)+\\n\"&bver=\"+b(w.bv);w.dpf&&(c+=\"&dpf=\"+b(w.dpf));var f=a.lineNumber;f!==void 0&&(c+=\"&line=\"+f);var h=a.fileName;h&&(h.indexOf(\"-extension:/\")>0&&(e=3),c+=\"&script=\"+b(h),f&&h===window.location.href&&(f=document.documentElement.outerHTML.split(\"\\\\n\")[f],c+=\"&cad=\"+b(f?f.substring(0,300):\"No script found.\")));google.ple&&google.ple===1&&(e=2);c+=\"&jsel=\"+e;for(var v in d)c+=\"&\",c+=b(v),c+=\"=\",c+=b(d[v]);c=c+\"&emsg=\"+b(a.name+\": \"+a.message);c=c+\"&jsst=\"+b(a.stack||\"N/A\");c.length>=12288&&(c=c.substr(0,12288));a=c;n||google.log(0,\"\",a);return a};window.onerror=function(a,b,d,n,e){u!==a&&(a=e instanceof Error?e:Error(a),d===void 0||\"lineNumber\"in a||(a.lineNumber=d),b===void 0||\"fileName\"in a||(a.fileName=b),google.ml(a,!1,void 0,!1,a.name===\"SyntaxError\"||a.message.substring(0,11)===\"SyntaxError\"||a.message.indexOf(\"Script error\")!==-1?3:p));u=null;r&&t>=l&&(window.onerror=null)};})();</script></head><body bgcolor=\"#fff\"><script nonce=\"8jcTEkYMYya53tWan6axRA\">(function(){var src=\\'/images/nav_logo229.png\\';var iesg=false;document.body.onload = function(){window.n && window.n();if (document.images){new Image().src=src;}\\nif (!iesg){document.f&&document.f.q.focus();document.gbqf&&document.gbqf.q.focus();}\\n}\\n})();</script><div id=\"mngb\"><div id=gbar><nobr><b class=gb1>&#25628;&#23563;</b> <a class=gb1 href=\"https://www.google.com/imghp?hl=zh-TW&tab=wi\">&#22294;&#29255;</a> <a class=gb1 href=\"https://maps.google.com.tw/maps?hl=zh-TW&tab=wl\">&#22320;&#22294;</a> <a class=gb1 href=\"https://play.google.com/?hl=zh-TW&tab=w8\">Play</a> <a class=gb1 href=\"https://www.youtube.com/?tab=w1\">YouTube</a> <a class=gb1 href=\"https://news.google.com/?tab=wn\">&#26032;&#32862;</a> <a class=gb1 href=\"https://mail.google.com/mail/?tab=wm\">Gmail</a> <a class=gb1 href=\"https://drive.google.com/?tab=wo\">&#38642;&#31471;&#30828;&#30879;</a> <a class=gb1 style=\"text-decoration:none\" href=\"https://www.google.com.tw/intl/zh-TW/about/products?tab=wh\"><u>&#26356;&#22810;</u> &raquo;</a></nobr></div><div id=guser width=100%><nobr><span id=gbn class=gbi></span><span id=gbf class=gbf></span><span id=gbe></span><a href=\"http://www.google.com.tw/history/optout?hl=zh-TW\" class=gb4>&#32178;&#38913;&#35352;&#37636;</a> | <a  href=\"/preferences?hl=zh-TW\" class=gb4>&#35373;&#23450;</a> | <a target=_top id=gb_70 href=\"https://accounts.google.com/ServiceLogin?hl=zh-TW&passive=true&continue=https://www.google.com/&ec=GAZAAQ\" class=gb4>&#30331;&#20837;</a></nobr></div><div class=gbh style=left:0></div><div class=gbh style=right:0></div></div><center><br clear=\"all\" id=\"lgpd\"><div id=\"XjhHGf\"><img alt=\"Google\" height=\"92\" src=\"/images/branding/googlelogo/1x/googlelogo_white_background_color_272x92dp.png\" style=\"padding:28px 0 14px\" width=\"272\" id=\"hplogo\"><br><br></div><form action=\"/search\" name=\"f\"><table cellpadding=\"0\" cellspacing=\"0\"><tr valign=\"top\"><td width=\"25%\">&nbsp;</td><td align=\"center\" nowrap=\"\"><input name=\"ie\" value=\"ISO-8859-1\" type=\"hidden\"><input value=\"zh-TW\" name=\"hl\" type=\"hidden\"><input name=\"source\" type=\"hidden\" value=\"hp\"><input name=\"biw\" type=\"hidden\"><input name=\"bih\" type=\"hidden\"><div class=\"ds\" style=\"height:32px;margin:4px 0\"><input class=\"lst\" style=\"margin:0;padding:5px 8px 0 6px;vertical-align:top;color:#000\" autocomplete=\"off\" value=\"\" title=\"Google &#25628;&#23563;\" maxlength=\"2048\" name=\"q\" size=\"57\"></div><br style=\"line-height:0\"><span class=\"ds\"><span class=\"lsbb\"><input class=\"lsb\" value=\"Google &#25628;&#23563;\" name=\"btnG\" type=\"submit\"></span></span><span class=\"ds\"><span class=\"lsbb\"><input class=\"lsb\" id=\"tsuid_E53MZ8rKL9vn1e8PpKiuyAc_1\" value=\"&#22909;&#25163;&#27683;\" name=\"btnI\" type=\"submit\"><script nonce=\"8jcTEkYMYya53tWan6axRA\">(function(){var id=\\'tsuid_E53MZ8rKL9vn1e8PpKiuyAc_1\\';document.getElementById(id).onclick = function(){if (this.form.q.value){this.checked = 1;if (this.form.iflsig)this.form.iflsig.disabled = false;}\\nelse top.location=\\'/doodles/\\';};})();</script><input value=\"ACkRmUkAAAAAZ8yrI27z1tQxVmZlkJf8TQqnYxB23xSl\" name=\"iflsig\" type=\"hidden\"></span></span></td><td class=\"fl sblc\" align=\"left\" nowrap=\"\" width=\"25%\"><a href=\"/advanced_search?hl=zh-TW&amp;authuser=0\">&#36914;&#38542;&#25628;&#23563;</a></td></tr></table><input id=\"gbv\" name=\"gbv\" type=\"hidden\" value=\"1\"><script nonce=\"8jcTEkYMYya53tWan6axRA\">(function(){var a,b=\"1\";if(document&&document.getElementById)if(typeof XMLHttpRequest!=\"undefined\")b=\"2\";else if(typeof ActiveXObject!=\"undefined\"){var c,d,e=[\"MSXML2.XMLHTTP.6.0\",\"MSXML2.XMLHTTP.3.0\",\"MSXML2.XMLHTTP\",\"Microsoft.XMLHTTP\"];for(c=0;d=e[c++];)try{new ActiveXObject(d),b=\"2\"}catch(h){}}a=b;if(a==\"2\"&&location.search.indexOf(\"&gbv=2\")==-1){var f=google.gbvu,g=document.getElementById(\"gbv\");g&&(g.value=a);f&&window.setTimeout(function(){location.href=f},0)};}).call(this);</script></form><div style=\"font-size:83%;min-height:3.5em\"><br></div><span id=\"footer\"><div style=\"font-size:10pt\"><div style=\"margin:19px auto;text-align:center\" id=\"WqQANb\"><a href=\"/intl/zh-TW/ads/\">&#24291;&#21578;</a><a href=\"http://www.google.com.tw/intl/zh-TW/services/\">&#21830;&#26989;&#35299;&#27770;&#26041;&#26696;</a><a href=\"/intl/zh-TW/about.html\">&#38364;&#26044; Google</a><a href=\"https://www.google.com/setprefdomain?prefdom=TW&amp;prev=https://www.google.com.tw/&amp;sig=K_S5wt_HaVQhWi0SHjeecGuHj_UOc%3D\">Google.com.tw</a></div></div><p style=\"font-size:8pt;color:#70757a\">&copy; 2025 - <a href=\"/intl/zh-TW/policies/privacy/\">&#38577;&#31169;&#27402;</a> - <a href=\"/intl/zh-TW/policies/terms/\">&#26381;&#21209;&#26781;&#27454;</a></p></span></center><script nonce=\"8jcTEkYMYya53tWan6axRA\">(function(){window.google.cdo={height:757,width:1440};(function(){var a=window.innerWidth,b=window.innerHeight;if(!a||!b){var c=window.document,d=c.compatMode==\"CSS1Compat\"?c.documentElement:c.body;a=d.clientWidth;b=d.clientHeight}if(a&&b&&(a!=google.cdo.width||b!=google.cdo.height)){var e=google,f=e.log,g=\"/client_204?&atyp=i&biw=\"+a+\"&bih=\"+b+\"&ei=\"+google.kEI,h=\"\",k=window.google&&window.google.kOPI||null;k&&(h+=\"&opi=\"+k);f.call(e,\"\",\"\",g+h)};}).call(this);})();</script>   <script nonce=\"8jcTEkYMYya53tWan6axRA\">(function(){google.xjs={basecomb:\\'/xjs/_/js/k\\\\x3dxjs.hp.en.Hzp9PlC5l14.es5.O/ck\\\\x3dxjs.hp.6iNRfB8cQSM.L.X.O/am\\\\x3dBgAAAAAQAAAAAAAAAAAAAAAAAAAAAAAAAAAAAACCAAAAAAAAAAAAgAMAAJgNwAEAAAEACBAAAAAAAAAAAAAAAEgAAAQAAAKAAAAgviMAIAAWAQDACw/d\\\\x3d1/ed\\\\x3d1/dg\\\\x3d0/ujg\\\\x3d1/rs\\\\x3dACT90oF3PGxI0V0ld2dCf8f-KPrLGN6yAA\\',basecss:\\'/xjs/_/ss/k\\\\x3dxjs.hp.6iNRfB8cQSM.L.X.O/am\\\\x3dBgAAAAAQAAAAAAAAAAAAAAAAAAAAAAAAAAAAAACAAAAAAAAAAAAAAAAAAJgBAAAAAAEACBAAAAAAAAAAAAAAAEgAAAQAAAKA/rs\\\\x3dACT90oGh9fs5ODmwYWGigxp3_ZchfFxWvw\\',basejs:\\'/xjs/_/js/k\\\\x3dxjs.hp.en.Hzp9PlC5l14.es5.O/am\\\\x3dAAAAAAAAAAAAAAAAAAAAAAAAAAAAAAAAAAAAAAACAAAAAAAAAAAAgAMAAAAMwAEAAAAAAAAAAAAAAAAAAAAAAAAAAAAAAAAAAAAgviMAIAAWAQDACw/dg\\\\x3d0/rs\\\\x3dACT90oHyyOOj6QmR-7kNosR44h8BKL1nqw\\',excm:[]};})();</script>        <script nonce=\"8jcTEkYMYya53tWan6axRA\">(function(){var u=\\'/xjs/_/js/k\\\\x3dxjs.hp.en.Hzp9PlC5l14.es5.O/am\\\\x3dAAAAAAAAAAAAAAAAAAAAAAAAAAAAAAAAAAAAAAACAAAAAAAAAAAAgAMAAAAMwAEAAAAAAAAAAAAAAAAAAAAAAAAAAAAAAAAAAAAgviMAIAAWAQDACw/d\\\\x3d1/ed\\\\x3d1/dg\\\\x3d3/rs\\\\x3dACT90oHyyOOj6QmR-7kNosR44h8BKL1nqw/m\\\\x3dsb_he,d\\';var st=1;var amd=1000;var mmd=0;var pod=true;var pop=false;var fp=\\'\\';\\nvar e=this||self;function f(){var a,b,d;if(b=a=(b=window.google)==null?void 0:(d=b.ia)==null?void 0:d.r.B2Jtyd)b=a.m,b=b===1||b===5;return b&&a.cbfd!=null&&a.cbvi!=null?a:void 0};function g(){var a=[u];if(!google.dp){for(var b=0;b<a.length;b++){var d=a[b],c=document.createElement(\"link\");c.as=\"script\";c.href=d;c.rel=\"preload\";document.body.appendChild(c)}google.dp=!0}};google.ps===void 0&&(google.ps=[]);function h(){var a=u,b=function(){};google.lx=google.stvsc?b:function(){k(a);google.lx=b};google.bx||google.lx()}function l(a,b){b&&(a.src=b);fp&&(a.fetchPriority=fp);var d=a.onload;a.onload=function(c){d&&d(c);google.ps=google.ps.filter(function(E){return a!==E})};google.ps.push(a);document.body.appendChild(a)}google.as=l;function k(a){google.timers&&google.timers.load&&google.tick&&google.tick(\"load\",\"xjsls\");var b=document.createElement(\"script\");b.onerror=function(){google.ple=1};b.onload=function(){google.ple=0};google.xjsus=void 0;l(b,a);google.aple=-1;google.dp=!0};function m(a){var b=a.getAttribute(\"jscontroller\");return(b===\"UBXHI\"||b===\"R3fhkb\"||b===\"TSZEqd\")&&a.hasAttribute(\"data-src\")}function n(){for(var a=document.getElementsByTagName(\"img\"),b=0,d=a.length;b<d;b++){var c=a[b];if(c.hasAttribute(\"data-lzy_\")&&Number(c.getAttribute(\"data-atf\"))&1&&!m(c))return!0}return!1}for(var p=document.getElementsByTagName(\"img\"),q=0,r=p.length;q<r;++q){var t=p[q];Number(t.getAttribute(\"data-atf\"))&1&&m(t)&&(t.src=t.getAttribute(\"data-src\"))};var w,x,y,z,A,B,C,D;function F(){google.xjsu=u;e._F_jsUrl=u;A=function(){h()};w=!1;x=(st===1||st===3)&&!!google.caft&&!n();y=f();z=(st===2||st===3)&&!!y&&!n();B=pod;D=(C=pop)&&document.prerendering}function G(){w||x||z||D||(A(),w=!0)}\\nsetTimeout(function(){google&&google.tick&&google.timers&&google.timers.load&&google.tick(\"load\",\"xjspls\");F();if(x||z||D){if(x){var a=function(){x=!1;G()};google.caft(a);window.setTimeout(a,amd)}z&&(a=function(){z=!1;G()},y.cbvi.push(a),window.setTimeout(a,mmd));D&&document.addEventListener(\"prerenderingchange\",function(){D=!1;G()},{once:!0});if(B||C)w||g()}else A()},0);})();window._ = window._ || {};window._DumpException = _._DumpException = function(e){throw e;};window._s = window._s || {};_s._DumpException = _._DumpException;window._qs = window._qs || {};_qs._DumpException = _._DumpException;(function(){var t=[6,16384,0,0,0,0,0,545423360,0,1048576,3883008,57019648,3008,2097220,4194305,0,0,268435744,2097152,134217760,536880062,284736,48128];window._F_toggles = window._xjs_toggles = t;})();window._F_installCss = window._F_installCss || function(css){};(function(){google.jl={bfl:0,dw:false,ine:false,ubm:false,uwp:true,vs:false};})();(function(){var pmc=\\'{\\\\x22d\\\\x22:{},\\\\x22sb_he\\\\x22:{\\\\x22agen\\\\x22:false,\\\\x22cgen\\\\x22:false,\\\\x22client\\\\x22:\\\\x22heirloom-hp\\\\x22,\\\\x22dh\\\\x22:true,\\\\x22ds\\\\x22:\\\\x22\\\\x22,\\\\x22fl\\\\x22:true,\\\\x22host\\\\x22:\\\\x22google.com\\\\x22,\\\\x22jsonp\\\\x22:true,\\\\x22msgs\\\\x22:{\\\\x22cibl\\\\x22:\\\\x22\\\\\\\\u6e05\\\\\\\\u9664\\\\\\\\u641c\\\\\\\\u5c0b\\\\x22,\\\\x22dym\\\\x22:\\\\x22\\\\\\\\u4f60\\\\\\\\u662f\\\\\\\\u4e0d\\\\\\\\u662f\\\\\\\\u8981\\\\\\\\u67e5\\\\\\\\uff1a\\\\x22,\\\\x22lcky\\\\x22:\\\\x22\\\\\\\\u597d\\\\\\\\u624b\\\\\\\\u6c23\\\\x22,\\\\x22lml\\\\x22:\\\\x22\\\\\\\\u77ad\\\\\\\\u89e3\\\\\\\\u8a73\\\\\\\\u60c5\\\\x22,\\\\x22psrc\\\\x22:\\\\x22\\\\\\\\u5df2\\\\\\\\u5f9e\\\\\\\\u60a8\\\\\\\\u7684\\\\\\\\u300c\\\\\\\\u003Ca href\\\\x3d\\\\\\\\\\\\x22/history\\\\\\\\\\\\x22\\\\\\\\u003E\\\\\\\\u7db2\\\\\\\\u9801\\\\\\\\u8a18\\\\\\\\u9304\\\\\\\\u003C/a\\\\\\\\u003E\\\\\\\\u300d\\\\\\\\u4e2d\\\\\\\\u79fb\\\\\\\\u9664\\\\\\\\u9019\\\\\\\\u7b46\\\\\\\\u641c\\\\\\\\u5c0b\\\\\\\\u8a18\\\\\\\\u9304\\\\x22,\\\\x22psrl\\\\x22:\\\\x22\\\\\\\\u79fb\\\\\\\\u9664\\\\x22,\\\\x22sbit\\\\x22:\\\\x22\\\\\\\\u4ee5\\\\\\\\u5716\\\\\\\\u641c\\\\\\\\u5c0b\\\\x22,\\\\x22srch\\\\x22:\\\\x22Google \\\\\\\\u641c\\\\\\\\u5c0b\\\\x22},\\\\x22ovr\\\\x22:{},\\\\x22pq\\\\x22:\\\\x22\\\\x22,\\\\x22rfs\\\\x22:[],\\\\x22stok\\\\x22:\\\\x22E4di9JYy56MCBFiASh1pv_rQxyI\\\\x22}}\\';google.pmc=JSON.parse(pmc);})();</script>       </body></html>'\n"
          ]
        }
      ],
      "source": [
        "import requests\n",
        "\n",
        "\n",
        "\n",
        "out = requests.get(\"https://google.com\")\n",
        "\n",
        "print(out.content)"
      ]
    },
    {
      "cell_type": "code",
      "source": [
        "import requests as req\n",
        "\n",
        "out = req.get(\"http://5.161.91.18/chat?text=سلام چطوری\")\n",
        "\n",
        "print(out.json())"
      ],
      "metadata": {
        "colab": {
          "base_uri": "https://localhost:8080/"
        },
        "id": "7_gspdMKQ2aw",
        "outputId": "6980e64d-b935-4161-c9c2-7f3f0ffa0776"
      },
      "execution_count": 10,
      "outputs": [
        {
          "output_type": "stream",
          "name": "stdout",
          "text": [
            "سلام! من خوب هستم، ممنون که پرسیدید. امیدوارم شما هم حالتان خوب باشد. چطور می‌توانم به شما کمک کنم؟\n"
          ]
        }
      ]
    },
    {
      "cell_type": "code",
      "source": [
        "import requests as req\n",
        "soal = \"یک رزومه برای یک برنامه نویس بنویس\"\n",
        "\n",
        "out = req.get(\"http://5.161.91.18/chat?text=\"+soal)\n",
        "\n",
        "print(out.json())"
      ],
      "metadata": {
        "colab": {
          "base_uri": "https://localhost:8080/"
        },
        "id": "1lgwO60MSRH_",
        "outputId": "044c1af0-2442-48c1-e588-bef40f55bd8e"
      },
      "execution_count": 13,
      "outputs": [
        {
          "output_type": "stream",
          "name": "stdout",
          "text": [
            "البته! در ادامه یک الگوی رزومه برای برنامه‌نویس ارائه می‌دهم. شما می‌توانید اطلاعات مربوط به خود را در محل‌های مشخص شده قرار دهید.\n",
            "\n",
            "---\n",
            "\n",
            "**رزومه**\n",
            "\n",
            "**نام و نام خانوادگی:** [نام شما]  \n",
            "**شماره تماس:** [شماره تلفن]  \n",
            "**ایمیل:** [ایمیل شما]  \n",
            "**آدرس:** [آدرس محل سکونت]  \n",
            "**لینکدین:** [لینک پروفایل لینکدین] (اختیاری)  \n",
            "**گیت‌هاب:** [لینک پروفایل گیت‌هاب] (اختیاری)  \n",
            "\n",
            "---\n",
            "\n",
            "**خلاصه پروفایل:**  \n",
            "برنامه‌نویس با [تعداد] سال تجربه در زمینه طراحی و توسعه نرم‌افزار. تسلط بر زبان‌های برنامه‌نویسی مختلف از جمله [زبان‌های برنامه‌نویسی] و مهارت در استفاده از تکنولوژی‌های مدرن. علاقه‌مند به یادگیری مداوم و رفع چالش‌های جدید در حوزه فناوری اطلاعات.\n",
            "\n",
            "---\n",
            "\n",
            "**مهارت‌ها:**  \n",
            "- زبان‌های برنامه‌نویسی: [لیست زبان‌ها]\n",
            "- فریم‌ورک‌ها و کتابخانه‌ها: [لیست فریم‌ورک‌ها]\n",
            "- پایگاه‌داده‌ها: [نام پایگاه‌داده‌ها]\n",
            "- ابزارها: [نام ابزارها]\n",
            "- سایر مهارت‌ها: [مهارت‌های دیگر]\n",
            "\n",
            "---\n",
            "\n",
            "**تحصیلات:**  \n",
            "**[مدرک تحصیلی]**  \n",
            "[نام دانشگاه] - [سال ورود] تا [سال فارغ‌التحصیلی]  \n",
            "موضوع پایان‌نامه: [موضوع پایان‌نامه] (اختیاری)\n",
            "\n",
            "---\n",
            "\n",
            "**تجربه کاری:**  \n",
            "\n",
            "**برنامه‌نویس [عنوان شغلی]**  \n",
            "[نام شرکت] - [تاریخ شروع] تا [تاریخ پایان]  \n",
            "- شرح وظایف و دستاوردها  \n",
            "- مشارکت در پروژه‌های تیمی و فردی  \n",
            "- بهینه‌سازی کد و نظارت بر کیفیت نرم‌افزار  \n",
            "\n",
            "**برنامه‌نویس [عنوان شغلی]**  \n",
            "[نام شرکت] - [تاریخ شروع] تا [تاریخ پایان]  \n",
            "- شرح وظایف و دستاوردها  \n",
            "- توسعه برنامه‌های کاربردی تحت وب و موبایل  \n",
            "- همکاری با تیم‌های طراحی و\n"
          ]
        }
      ]
    },
    {
      "cell_type": "code",
      "source": [
        " import requests as req\n",
        "\n",
        "soal = input(\"ask here:\")\n",
        "\n",
        "out = req.get(\"http://5.161.91.18/chat?text=\"+soal)\n",
        "\n",
        "print(out.json())"
      ],
      "metadata": {
        "id": "ehamy7IXS6Gv"
      },
      "execution_count": null,
      "outputs": []
    }
  ]
}